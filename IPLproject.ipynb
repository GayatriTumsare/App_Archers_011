{
 "cells": [
  {
   "cell_type": "code",
   "execution_count": 5,
   "id": "6f2bf7cb-4486-4e90-aa3f-ab23803e5c7f",
   "metadata": {},
   "outputs": [],
   "source": [
    "import pandas as pd \n",
    "import numpy as np \n",
    "import matplotlib.pyplot as plt\n",
    "import seaborn as sns\n",
    "import re \n",
    "import warnings\n",
    "warnings.filterwarnings(\"ignore\")"
   ]
  },
  {
   "cell_type": "code",
   "execution_count": 7,
   "id": "2949ce33-22c8-42f8-b8b7-220054e57c3b",
   "metadata": {},
   "outputs": [
    {
     "data": {
      "text/html": [
       "<div>\n",
       "<style scoped>\n",
       "    .dataframe tbody tr th:only-of-type {\n",
       "        vertical-align: middle;\n",
       "    }\n",
       "\n",
       "    .dataframe tbody tr th {\n",
       "        vertical-align: top;\n",
       "    }\n",
       "\n",
       "    .dataframe thead th {\n",
       "        text-align: right;\n",
       "    }\n",
       "</style>\n",
       "<table border=\"1\" class=\"dataframe\">\n",
       "  <thead>\n",
       "    <tr style=\"text-align: right;\">\n",
       "      <th></th>\n",
       "      <th>Country_Id</th>\n",
       "      <th>Country_Name</th>\n",
       "    </tr>\n",
       "  </thead>\n",
       "  <tbody>\n",
       "    <tr>\n",
       "      <th>0</th>\n",
       "      <td>1</td>\n",
       "      <td>India</td>\n",
       "    </tr>\n",
       "    <tr>\n",
       "      <th>1</th>\n",
       "      <td>2</td>\n",
       "      <td>South Africa</td>\n",
       "    </tr>\n",
       "    <tr>\n",
       "      <th>2</th>\n",
       "      <td>3</td>\n",
       "      <td>U.A.E</td>\n",
       "    </tr>\n",
       "    <tr>\n",
       "      <th>3</th>\n",
       "      <td>4</td>\n",
       "      <td>New Zealand</td>\n",
       "    </tr>\n",
       "    <tr>\n",
       "      <th>4</th>\n",
       "      <td>5</td>\n",
       "      <td>Australia</td>\n",
       "    </tr>\n",
       "  </tbody>\n",
       "</table>\n",
       "</div>"
      ],
      "text/plain": [
       "   Country_Id  Country_Name\n",
       "0           1         India\n",
       "1           2  South Africa\n",
       "2           3         U.A.E\n",
       "3           4   New Zealand\n",
       "4           5     Australia"
      ]
     },
     "execution_count": 7,
     "metadata": {},
     "output_type": "execute_result"
    }
   ],
   "source": [
    "country = pd.read_csv(\"C:/project/IPL_2016/Country.csv\")\n",
    "country.head()"
   ]
  },
  {
   "cell_type": "code",
   "execution_count": 8,
   "id": "07602dd0-f4a9-4bef-8b36-7457c40f97c0",
   "metadata": {},
   "outputs": [
    {
     "name": "stdout",
     "output_type": "stream",
     "text": [
      "<class 'pandas.core.frame.DataFrame'>\n",
      "RangeIndex: 12 entries, 0 to 11\n",
      "Data columns (total 2 columns):\n",
      " #   Column        Non-Null Count  Dtype \n",
      "---  ------        --------------  ----- \n",
      " 0   Country_Id    12 non-null     int64 \n",
      " 1   Country_Name  12 non-null     object\n",
      "dtypes: int64(1), object(1)\n",
      "memory usage: 324.0+ bytes\n"
     ]
    }
   ],
   "source": [
    "country.info()"
   ]
  },
  {
   "cell_type": "code",
   "execution_count": 9,
   "id": "c1167d9c-25f0-478a-ad84-465154754e33",
   "metadata": {},
   "outputs": [
    {
     "data": {
      "text/plain": [
       "0"
      ]
     },
     "execution_count": 9,
     "metadata": {},
     "output_type": "execute_result"
    }
   ],
   "source": [
    "country.duplicated().sum()"
   ]
  },
  {
   "cell_type": "code",
   "execution_count": 10,
   "id": "3c6ff54a-64a9-46fd-ae19-52813b849daa",
   "metadata": {},
   "outputs": [
    {
     "data": {
      "text/plain": [
       "Country_Id      0\n",
       "Country_Name    0\n",
       "dtype: int64"
      ]
     },
     "execution_count": 10,
     "metadata": {},
     "output_type": "execute_result"
    }
   ],
   "source": [
    "missing_values = country.isnull().sum()\n",
    "missing_values"
   ]
  },
  {
   "cell_type": "code",
   "execution_count": 11,
   "id": "5b80e065-245a-487d-afe3-409c3bff5a1e",
   "metadata": {},
   "outputs": [
    {
     "data": {
      "text/html": [
       "<div>\n",
       "<style scoped>\n",
       "    .dataframe tbody tr th:only-of-type {\n",
       "        vertical-align: middle;\n",
       "    }\n",
       "\n",
       "    .dataframe tbody tr th {\n",
       "        vertical-align: top;\n",
       "    }\n",
       "\n",
       "    .dataframe thead th {\n",
       "        text-align: right;\n",
       "    }\n",
       "</style>\n",
       "<table border=\"1\" class=\"dataframe\">\n",
       "  <thead>\n",
       "    <tr style=\"text-align: right;\">\n",
       "      <th></th>\n",
       "      <th>Match_Id</th>\n",
       "      <th>Over_Id</th>\n",
       "      <th>Ball_Id</th>\n",
       "      <th>Extra_Type_Id</th>\n",
       "      <th>Extra_Runs</th>\n",
       "      <th>Innings_No</th>\n",
       "    </tr>\n",
       "  </thead>\n",
       "  <tbody>\n",
       "    <tr>\n",
       "      <th>0</th>\n",
       "      <td>335987</td>\n",
       "      <td>1</td>\n",
       "      <td>1</td>\n",
       "      <td>1</td>\n",
       "      <td>1</td>\n",
       "      <td>1</td>\n",
       "    </tr>\n",
       "    <tr>\n",
       "      <th>1</th>\n",
       "      <td>335987</td>\n",
       "      <td>1</td>\n",
       "      <td>2</td>\n",
       "      <td>2</td>\n",
       "      <td>1</td>\n",
       "      <td>2</td>\n",
       "    </tr>\n",
       "    <tr>\n",
       "      <th>2</th>\n",
       "      <td>335987</td>\n",
       "      <td>1</td>\n",
       "      <td>3</td>\n",
       "      <td>2</td>\n",
       "      <td>1</td>\n",
       "      <td>1</td>\n",
       "    </tr>\n",
       "    <tr>\n",
       "      <th>3</th>\n",
       "      <td>335987</td>\n",
       "      <td>1</td>\n",
       "      <td>7</td>\n",
       "      <td>1</td>\n",
       "      <td>1</td>\n",
       "      <td>1</td>\n",
       "    </tr>\n",
       "    <tr>\n",
       "      <th>4</th>\n",
       "      <td>335987</td>\n",
       "      <td>2</td>\n",
       "      <td>3</td>\n",
       "      <td>1</td>\n",
       "      <td>4</td>\n",
       "      <td>2</td>\n",
       "    </tr>\n",
       "  </tbody>\n",
       "</table>\n",
       "</div>"
      ],
      "text/plain": [
       "   Match_Id  Over_Id  Ball_Id  Extra_Type_Id  Extra_Runs  Innings_No\n",
       "0    335987        1        1              1           1           1\n",
       "1    335987        1        2              2           1           2\n",
       "2    335987        1        3              2           1           1\n",
       "3    335987        1        7              1           1           1\n",
       "4    335987        2        3              1           4           2"
      ]
     },
     "execution_count": 11,
     "metadata": {},
     "output_type": "execute_result"
    }
   ],
   "source": [
    "extra_runs = pd.read_csv(\"C:/project/IPL_2016/Extra_Runs.csv\")\n",
    "extra_runs.head()"
   ]
  },
  {
   "cell_type": "code",
   "execution_count": 12,
   "id": "8f939300-6d74-49b7-8814-e31594ecf52a",
   "metadata": {},
   "outputs": [
    {
     "name": "stdout",
     "output_type": "stream",
     "text": [
      "<class 'pandas.core.frame.DataFrame'>\n",
      "RangeIndex: 7469 entries, 0 to 7468\n",
      "Data columns (total 6 columns):\n",
      " #   Column         Non-Null Count  Dtype\n",
      "---  ------         --------------  -----\n",
      " 0   Match_Id       7469 non-null   int64\n",
      " 1   Over_Id        7469 non-null   int64\n",
      " 2   Ball_Id        7469 non-null   int64\n",
      " 3   Extra_Type_Id  7469 non-null   int64\n",
      " 4   Extra_Runs     7469 non-null   int64\n",
      " 5   Innings_No     7469 non-null   int64\n",
      "dtypes: int64(6)\n",
      "memory usage: 350.2 KB\n"
     ]
    }
   ],
   "source": [
    "extra_runs.info()"
   ]
  },
  {
   "cell_type": "code",
   "execution_count": 13,
   "id": "3dfd0afd-88c2-4e61-8520-e6d28494f3f7",
   "metadata": {},
   "outputs": [
    {
     "data": {
      "text/plain": [
       "0"
      ]
     },
     "execution_count": 13,
     "metadata": {},
     "output_type": "execute_result"
    }
   ],
   "source": [
    "extra_runs.duplicated().sum()"
   ]
  },
  {
   "cell_type": "code",
   "execution_count": 14,
   "id": "366f5022-542c-4f27-97f5-4dcd4c38383d",
   "metadata": {},
   "outputs": [
    {
     "data": {
      "text/plain": [
       "Match_Id         0\n",
       "Over_Id          0\n",
       "Ball_Id          0\n",
       "Extra_Type_Id    0\n",
       "Extra_Runs       0\n",
       "Innings_No       0\n",
       "dtype: int64"
      ]
     },
     "execution_count": 14,
     "metadata": {},
     "output_type": "execute_result"
    }
   ],
   "source": [
    "missing_values = extra_runs.isnull().sum()\n",
    "missing_values"
   ]
  },
  {
   "cell_type": "code",
   "execution_count": 15,
   "id": "6a7509cb-f3a3-41f1-a296-16e615b52e30",
   "metadata": {},
   "outputs": [
    {
     "data": {
      "text/html": [
       "<div>\n",
       "<style scoped>\n",
       "    .dataframe tbody tr th:only-of-type {\n",
       "        vertical-align: middle;\n",
       "    }\n",
       "\n",
       "    .dataframe tbody tr th {\n",
       "        vertical-align: top;\n",
       "    }\n",
       "\n",
       "    .dataframe thead th {\n",
       "        text-align: right;\n",
       "    }\n",
       "</style>\n",
       "<table border=\"1\" class=\"dataframe\">\n",
       "  <thead>\n",
       "    <tr style=\"text-align: right;\">\n",
       "      <th></th>\n",
       "      <th>Extra_Id</th>\n",
       "      <th>Extra_Name</th>\n",
       "    </tr>\n",
       "  </thead>\n",
       "  <tbody>\n",
       "    <tr>\n",
       "      <th>0</th>\n",
       "      <td>1</td>\n",
       "      <td>legbyes</td>\n",
       "    </tr>\n",
       "    <tr>\n",
       "      <th>1</th>\n",
       "      <td>2</td>\n",
       "      <td>wides</td>\n",
       "    </tr>\n",
       "    <tr>\n",
       "      <th>2</th>\n",
       "      <td>3</td>\n",
       "      <td>byes</td>\n",
       "    </tr>\n",
       "    <tr>\n",
       "      <th>3</th>\n",
       "      <td>4</td>\n",
       "      <td>noballs</td>\n",
       "    </tr>\n",
       "    <tr>\n",
       "      <th>4</th>\n",
       "      <td>5</td>\n",
       "      <td>penalty</td>\n",
       "    </tr>\n",
       "  </tbody>\n",
       "</table>\n",
       "</div>"
      ],
      "text/plain": [
       "   Extra_Id Extra_Name\n",
       "0         1    legbyes\n",
       "1         2      wides\n",
       "2         3       byes\n",
       "3         4    noballs\n",
       "4         5    penalty"
      ]
     },
     "execution_count": 15,
     "metadata": {},
     "output_type": "execute_result"
    }
   ],
   "source": [
    "extra_type = pd.read_csv(\"C:/project/IPL_2016/Extra_Type.csv\")\n",
    "extra_type.head()"
   ]
  },
  {
   "cell_type": "code",
   "execution_count": 16,
   "id": "83b48da5-9bb8-4372-8ed4-333882ae06d8",
   "metadata": {},
   "outputs": [
    {
     "name": "stdout",
     "output_type": "stream",
     "text": [
      "<class 'pandas.core.frame.DataFrame'>\n",
      "RangeIndex: 5 entries, 0 to 4\n",
      "Data columns (total 2 columns):\n",
      " #   Column      Non-Null Count  Dtype \n",
      "---  ------      --------------  ----- \n",
      " 0   Extra_Id    5 non-null      int64 \n",
      " 1   Extra_Name  5 non-null      object\n",
      "dtypes: int64(1), object(1)\n",
      "memory usage: 212.0+ bytes\n"
     ]
    }
   ],
   "source": [
    "extra_type.info()"
   ]
  },
  {
   "cell_type": "code",
   "execution_count": 17,
   "id": "3a66b0fb-6b03-4d64-acb2-823cb904abae",
   "metadata": {},
   "outputs": [
    {
     "data": {
      "text/plain": [
       "0"
      ]
     },
     "execution_count": 17,
     "metadata": {},
     "output_type": "execute_result"
    }
   ],
   "source": [
    "extra_type.duplicated().sum()"
   ]
  },
  {
   "cell_type": "code",
   "execution_count": 19,
   "id": "ec94d9fb-716c-46ce-9e34-26e3a7f51a8b",
   "metadata": {},
   "outputs": [
    {
     "data": {
      "text/plain": [
       "Extra_Id      0\n",
       "Extra_Name    0\n",
       "dtype: int64"
      ]
     },
     "execution_count": 19,
     "metadata": {},
     "output_type": "execute_result"
    }
   ],
   "source": [
    "missing_values = extra_type.isnull().sum()\n",
    "missing_values"
   ]
  },
  {
   "cell_type": "code",
   "execution_count": 20,
   "id": "ad4562bc-7a04-475b-b0a6-f347d8718fbe",
   "metadata": {},
   "outputs": [
    {
     "data": {
      "text/html": [
       "<div>\n",
       "<style scoped>\n",
       "    .dataframe tbody tr th:only-of-type {\n",
       "        vertical-align: middle;\n",
       "    }\n",
       "\n",
       "    .dataframe tbody tr th {\n",
       "        vertical-align: top;\n",
       "    }\n",
       "\n",
       "    .dataframe thead th {\n",
       "        text-align: right;\n",
       "    }\n",
       "</style>\n",
       "<table border=\"1\" class=\"dataframe\">\n",
       "  <thead>\n",
       "    <tr style=\"text-align: right;\">\n",
       "      <th></th>\n",
       "      <th>Match_Id</th>\n",
       "      <th>Team_1</th>\n",
       "      <th>Team_2</th>\n",
       "      <th>Match_Date</th>\n",
       "      <th>Season_Id</th>\n",
       "      <th>Venue_Id</th>\n",
       "      <th>Toss_Winner</th>\n",
       "      <th>Toss_Decide</th>\n",
       "      <th>Win_Type</th>\n",
       "      <th>Win_Margin</th>\n",
       "      <th>Outcome_type</th>\n",
       "      <th>Match_Winner</th>\n",
       "      <th>Man_of_the_Match</th>\n",
       "    </tr>\n",
       "  </thead>\n",
       "  <tbody>\n",
       "    <tr>\n",
       "      <th>0</th>\n",
       "      <td>335987</td>\n",
       "      <td>2</td>\n",
       "      <td>1</td>\n",
       "      <td>2008-04-18</td>\n",
       "      <td>1</td>\n",
       "      <td>1</td>\n",
       "      <td>2</td>\n",
       "      <td>1</td>\n",
       "      <td>1</td>\n",
       "      <td>140.0</td>\n",
       "      <td>1</td>\n",
       "      <td>1.0</td>\n",
       "      <td>2.0</td>\n",
       "    </tr>\n",
       "    <tr>\n",
       "      <th>1</th>\n",
       "      <td>335988</td>\n",
       "      <td>4</td>\n",
       "      <td>3</td>\n",
       "      <td>2008-04-19</td>\n",
       "      <td>1</td>\n",
       "      <td>2</td>\n",
       "      <td>3</td>\n",
       "      <td>2</td>\n",
       "      <td>1</td>\n",
       "      <td>33.0</td>\n",
       "      <td>1</td>\n",
       "      <td>3.0</td>\n",
       "      <td>19.0</td>\n",
       "    </tr>\n",
       "    <tr>\n",
       "      <th>2</th>\n",
       "      <td>335989</td>\n",
       "      <td>6</td>\n",
       "      <td>5</td>\n",
       "      <td>2008-04-19</td>\n",
       "      <td>1</td>\n",
       "      <td>3</td>\n",
       "      <td>5</td>\n",
       "      <td>2</td>\n",
       "      <td>2</td>\n",
       "      <td>9.0</td>\n",
       "      <td>1</td>\n",
       "      <td>6.0</td>\n",
       "      <td>90.0</td>\n",
       "    </tr>\n",
       "    <tr>\n",
       "      <th>3</th>\n",
       "      <td>335990</td>\n",
       "      <td>7</td>\n",
       "      <td>2</td>\n",
       "      <td>2008-04-20</td>\n",
       "      <td>1</td>\n",
       "      <td>4</td>\n",
       "      <td>7</td>\n",
       "      <td>2</td>\n",
       "      <td>2</td>\n",
       "      <td>5.0</td>\n",
       "      <td>1</td>\n",
       "      <td>2.0</td>\n",
       "      <td>11.0</td>\n",
       "    </tr>\n",
       "    <tr>\n",
       "      <th>4</th>\n",
       "      <td>335991</td>\n",
       "      <td>1</td>\n",
       "      <td>8</td>\n",
       "      <td>2008-04-20</td>\n",
       "      <td>1</td>\n",
       "      <td>5</td>\n",
       "      <td>8</td>\n",
       "      <td>2</td>\n",
       "      <td>2</td>\n",
       "      <td>5.0</td>\n",
       "      <td>1</td>\n",
       "      <td>1.0</td>\n",
       "      <td>4.0</td>\n",
       "    </tr>\n",
       "    <tr>\n",
       "      <th>...</th>\n",
       "      <td>...</td>\n",
       "      <td>...</td>\n",
       "      <td>...</td>\n",
       "      <td>...</td>\n",
       "      <td>...</td>\n",
       "      <td>...</td>\n",
       "      <td>...</td>\n",
       "      <td>...</td>\n",
       "      <td>...</td>\n",
       "      <td>...</td>\n",
       "      <td>...</td>\n",
       "      <td>...</td>\n",
       "      <td>...</td>\n",
       "    </tr>\n",
       "    <tr>\n",
       "      <th>572</th>\n",
       "      <td>981016</td>\n",
       "      <td>6</td>\n",
       "      <td>2</td>\n",
       "      <td>2016-05-22</td>\n",
       "      <td>9</td>\n",
       "      <td>27</td>\n",
       "      <td>2</td>\n",
       "      <td>1</td>\n",
       "      <td>2</td>\n",
       "      <td>6.0</td>\n",
       "      <td>1</td>\n",
       "      <td>2.0</td>\n",
       "      <td>8.0</td>\n",
       "    </tr>\n",
       "    <tr>\n",
       "      <th>573</th>\n",
       "      <td>981018</td>\n",
       "      <td>13</td>\n",
       "      <td>2</td>\n",
       "      <td>2016-05-24</td>\n",
       "      <td>9</td>\n",
       "      <td>1</td>\n",
       "      <td>2</td>\n",
       "      <td>1</td>\n",
       "      <td>2</td>\n",
       "      <td>4.0</td>\n",
       "      <td>1</td>\n",
       "      <td>2.0</td>\n",
       "      <td>110.0</td>\n",
       "    </tr>\n",
       "    <tr>\n",
       "      <th>574</th>\n",
       "      <td>981020</td>\n",
       "      <td>11</td>\n",
       "      <td>1</td>\n",
       "      <td>2016-05-25</td>\n",
       "      <td>9</td>\n",
       "      <td>3</td>\n",
       "      <td>1</td>\n",
       "      <td>1</td>\n",
       "      <td>1</td>\n",
       "      <td>22.0</td>\n",
       "      <td>1</td>\n",
       "      <td>11.0</td>\n",
       "      <td>163.0</td>\n",
       "    </tr>\n",
       "    <tr>\n",
       "      <th>575</th>\n",
       "      <td>981022</td>\n",
       "      <td>13</td>\n",
       "      <td>11</td>\n",
       "      <td>2016-05-27</td>\n",
       "      <td>9</td>\n",
       "      <td>3</td>\n",
       "      <td>11</td>\n",
       "      <td>1</td>\n",
       "      <td>2</td>\n",
       "      <td>4.0</td>\n",
       "      <td>1</td>\n",
       "      <td>11.0</td>\n",
       "      <td>187.0</td>\n",
       "    </tr>\n",
       "    <tr>\n",
       "      <th>576</th>\n",
       "      <td>981024</td>\n",
       "      <td>2</td>\n",
       "      <td>11</td>\n",
       "      <td>2016-05-29</td>\n",
       "      <td>9</td>\n",
       "      <td>1</td>\n",
       "      <td>11</td>\n",
       "      <td>2</td>\n",
       "      <td>1</td>\n",
       "      <td>8.0</td>\n",
       "      <td>1</td>\n",
       "      <td>11.0</td>\n",
       "      <td>385.0</td>\n",
       "    </tr>\n",
       "  </tbody>\n",
       "</table>\n",
       "<p>577 rows × 13 columns</p>\n",
       "</div>"
      ],
      "text/plain": [
       "     Match_Id  Team_1  Team_2  Match_Date  Season_Id  Venue_Id  Toss_Winner  \\\n",
       "0      335987       2       1  2008-04-18          1         1            2   \n",
       "1      335988       4       3  2008-04-19          1         2            3   \n",
       "2      335989       6       5  2008-04-19          1         3            5   \n",
       "3      335990       7       2  2008-04-20          1         4            7   \n",
       "4      335991       1       8  2008-04-20          1         5            8   \n",
       "..        ...     ...     ...         ...        ...       ...          ...   \n",
       "572    981016       6       2  2016-05-22          9        27            2   \n",
       "573    981018      13       2  2016-05-24          9         1            2   \n",
       "574    981020      11       1  2016-05-25          9         3            1   \n",
       "575    981022      13      11  2016-05-27          9         3           11   \n",
       "576    981024       2      11  2016-05-29          9         1           11   \n",
       "\n",
       "     Toss_Decide  Win_Type  Win_Margin  Outcome_type  Match_Winner  \\\n",
       "0              1         1       140.0             1           1.0   \n",
       "1              2         1        33.0             1           3.0   \n",
       "2              2         2         9.0             1           6.0   \n",
       "3              2         2         5.0             1           2.0   \n",
       "4              2         2         5.0             1           1.0   \n",
       "..           ...       ...         ...           ...           ...   \n",
       "572            1         2         6.0             1           2.0   \n",
       "573            1         2         4.0             1           2.0   \n",
       "574            1         1        22.0             1          11.0   \n",
       "575            1         2         4.0             1          11.0   \n",
       "576            2         1         8.0             1          11.0   \n",
       "\n",
       "     Man_of_the_Match  \n",
       "0                 2.0  \n",
       "1                19.0  \n",
       "2                90.0  \n",
       "3                11.0  \n",
       "4                 4.0  \n",
       "..                ...  \n",
       "572               8.0  \n",
       "573             110.0  \n",
       "574             163.0  \n",
       "575             187.0  \n",
       "576             385.0  \n",
       "\n",
       "[577 rows x 13 columns]"
      ]
     },
     "execution_count": 20,
     "metadata": {},
     "output_type": "execute_result"
    }
   ],
   "source": [
    "ipl_match = pd.read_csv(\"C:/project/IPL_2016/Match.csv\")\n",
    "ipl_match"
   ]
  },
  {
   "cell_type": "code",
   "execution_count": 21,
   "id": "f01732ea-890b-4a47-a91e-98674992008b",
   "metadata": {},
   "outputs": [
    {
     "name": "stdout",
     "output_type": "stream",
     "text": [
      "<class 'pandas.core.frame.DataFrame'>\n",
      "RangeIndex: 577 entries, 0 to 576\n",
      "Data columns (total 13 columns):\n",
      " #   Column            Non-Null Count  Dtype  \n",
      "---  ------            --------------  -----  \n",
      " 0   Match_Id          577 non-null    int64  \n",
      " 1   Team_1            577 non-null    int64  \n",
      " 2   Team_2            577 non-null    int64  \n",
      " 3   Match_Date        577 non-null    object \n",
      " 4   Season_Id         577 non-null    int64  \n",
      " 5   Venue_Id          577 non-null    int64  \n",
      " 6   Toss_Winner       577 non-null    int64  \n",
      " 7   Toss_Decide       577 non-null    int64  \n",
      " 8   Win_Type          577 non-null    int64  \n",
      " 9   Win_Margin        568 non-null    float64\n",
      " 10  Outcome_type      577 non-null    int64  \n",
      " 11  Match_Winner      574 non-null    float64\n",
      " 12  Man_of_the_Match  574 non-null    float64\n",
      "dtypes: float64(3), int64(9), object(1)\n",
      "memory usage: 58.7+ KB\n"
     ]
    }
   ],
   "source": [
    "ipl_match.info()"
   ]
  },
  {
   "cell_type": "code",
   "execution_count": 22,
   "id": "43a73548-05c2-424b-abac-429e28717acf",
   "metadata": {},
   "outputs": [
    {
     "data": {
      "text/plain": [
       "0"
      ]
     },
     "execution_count": 22,
     "metadata": {},
     "output_type": "execute_result"
    }
   ],
   "source": [
    "ipl_match.duplicated().sum()"
   ]
  },
  {
   "cell_type": "code",
   "execution_count": 23,
   "id": "edebc2b4-77ef-4bd2-a158-e41a5f5218eb",
   "metadata": {},
   "outputs": [
    {
     "data": {
      "text/plain": [
       "Match_Id            0\n",
       "Team_1              0\n",
       "Team_2              0\n",
       "Match_Date          0\n",
       "Season_Id           0\n",
       "Venue_Id            0\n",
       "Toss_Winner         0\n",
       "Toss_Decide         0\n",
       "Win_Type            0\n",
       "Win_Margin          9\n",
       "Outcome_type        0\n",
       "Match_Winner        3\n",
       "Man_of_the_Match    3\n",
       "dtype: int64"
      ]
     },
     "execution_count": 23,
     "metadata": {},
     "output_type": "execute_result"
    }
   ],
   "source": [
    "missing_values = ipl_match.isnull().sum()\n",
    "missing_values"
   ]
  },
  {
   "cell_type": "code",
   "execution_count": 25,
   "id": "819aa3d1-2811-4019-92a2-f98022c14656",
   "metadata": {},
   "outputs": [
    {
     "data": {
      "text/plain": [
       "Match_Date\n",
       "2011-04-17    2\n",
       "2011-05-02    2\n",
       "2011-05-05    2\n",
       "2011-05-07    2\n",
       "2011-05-08    2\n",
       "             ..\n",
       "2012-04-13    1\n",
       "2012-04-14    1\n",
       "2012-04-16    1\n",
       "2012-04-18    1\n",
       "2016-05-29    1\n",
       "Name: count, Length: 407, dtype: int64"
      ]
     },
     "execution_count": 25,
     "metadata": {},
     "output_type": "execute_result"
    }
   ],
   "source": [
    "ipl_match['Match_Date'].value_counts()"
   ]
  },
  {
   "cell_type": "code",
   "execution_count": 26,
   "id": "e6d67bcd-3cc0-426a-aee2-d0f45a042c80",
   "metadata": {},
   "outputs": [],
   "source": [
    "ipl_match['Match_Date'] = pd.to_datetime(ipl_match['Match_Date'], errors = 'coerce')"
   ]
  },
  {
   "cell_type": "code",
   "execution_count": 31,
   "id": "8d13e233-c00f-4d5e-ac39-640b9148fc79",
   "metadata": {},
   "outputs": [
    {
     "name": "stdout",
     "output_type": "stream",
     "text": [
      "<class 'pandas.core.frame.DataFrame'>\n",
      "Index: 568 entries, 0 to 576\n",
      "Data columns (total 13 columns):\n",
      " #   Column            Non-Null Count  Dtype         \n",
      "---  ------            --------------  -----         \n",
      " 0   Match_Id          568 non-null    int64         \n",
      " 1   Team_1            568 non-null    int64         \n",
      " 2   Team_2            568 non-null    int64         \n",
      " 3   Match_Date        568 non-null    datetime64[ns]\n",
      " 4   Season_Id         568 non-null    int64         \n",
      " 5   Venue_Id          568 non-null    int64         \n",
      " 6   Toss_Winner       568 non-null    int64         \n",
      " 7   Toss_Decide       568 non-null    int64         \n",
      " 8   Win_Type          568 non-null    int64         \n",
      " 9   Win_Margin        568 non-null    float64       \n",
      " 10  Outcome_type      568 non-null    int64         \n",
      " 11  Match_Winner      568 non-null    float64       \n",
      " 12  Man_of_the_Match  568 non-null    float64       \n",
      "dtypes: datetime64[ns](1), float64(3), int64(9)\n",
      "memory usage: 62.1 KB\n"
     ]
    }
   ],
   "source": [
    "ipl_match.info()"
   ]
  },
  {
   "cell_type": "code",
   "execution_count": 30,
   "id": "ffecfcde-848e-4513-adc1-cb401ac29f60",
   "metadata": {},
   "outputs": [],
   "source": [
    "ipl_match.dropna(inplace = True)"
   ]
  },
  {
   "cell_type": "code",
   "execution_count": 32,
   "id": "c02ac3d4-aa67-46c1-9703-b448de6ced4a",
   "metadata": {},
   "outputs": [
    {
     "data": {
      "text/html": [
       "<div>\n",
       "<style scoped>\n",
       "    .dataframe tbody tr th:only-of-type {\n",
       "        vertical-align: middle;\n",
       "    }\n",
       "\n",
       "    .dataframe tbody tr th {\n",
       "        vertical-align: top;\n",
       "    }\n",
       "\n",
       "    .dataframe thead th {\n",
       "        text-align: right;\n",
       "    }\n",
       "</style>\n",
       "<table border=\"1\" class=\"dataframe\">\n",
       "  <thead>\n",
       "    <tr style=\"text-align: right;\">\n",
       "      <th></th>\n",
       "      <th>Out_Id</th>\n",
       "      <th>Out_Name</th>\n",
       "    </tr>\n",
       "  </thead>\n",
       "  <tbody>\n",
       "    <tr>\n",
       "      <th>0</th>\n",
       "      <td>1</td>\n",
       "      <td>caught</td>\n",
       "    </tr>\n",
       "    <tr>\n",
       "      <th>1</th>\n",
       "      <td>2</td>\n",
       "      <td>bowled</td>\n",
       "    </tr>\n",
       "    <tr>\n",
       "      <th>2</th>\n",
       "      <td>3</td>\n",
       "      <td>run out</td>\n",
       "    </tr>\n",
       "    <tr>\n",
       "      <th>3</th>\n",
       "      <td>4</td>\n",
       "      <td>lbw</td>\n",
       "    </tr>\n",
       "    <tr>\n",
       "      <th>4</th>\n",
       "      <td>5</td>\n",
       "      <td>retired hurt</td>\n",
       "    </tr>\n",
       "    <tr>\n",
       "      <th>5</th>\n",
       "      <td>6</td>\n",
       "      <td>stumped</td>\n",
       "    </tr>\n",
       "    <tr>\n",
       "      <th>6</th>\n",
       "      <td>7</td>\n",
       "      <td>caught and bowled</td>\n",
       "    </tr>\n",
       "    <tr>\n",
       "      <th>7</th>\n",
       "      <td>8</td>\n",
       "      <td>hit wicket</td>\n",
       "    </tr>\n",
       "    <tr>\n",
       "      <th>8</th>\n",
       "      <td>9</td>\n",
       "      <td>obstructing the field</td>\n",
       "    </tr>\n",
       "  </tbody>\n",
       "</table>\n",
       "</div>"
      ],
      "text/plain": [
       "   Out_Id               Out_Name\n",
       "0       1                 caught\n",
       "1       2                 bowled\n",
       "2       3                run out\n",
       "3       4                    lbw\n",
       "4       5           retired hurt\n",
       "5       6                stumped\n",
       "6       7      caught and bowled\n",
       "7       8             hit wicket\n",
       "8       9  obstructing the field"
      ]
     },
     "execution_count": 32,
     "metadata": {},
     "output_type": "execute_result"
    }
   ],
   "source": [
    "out_type = pd.read_csv(\"C:/project/IPL_2016/Out_Type.csv\")\n",
    "out_type"
   ]
  },
  {
   "cell_type": "code",
   "execution_count": 33,
   "id": "1949ce07-a62e-4d7f-9b40-54645d3e7602",
   "metadata": {},
   "outputs": [
    {
     "name": "stdout",
     "output_type": "stream",
     "text": [
      "<class 'pandas.core.frame.DataFrame'>\n",
      "RangeIndex: 9 entries, 0 to 8\n",
      "Data columns (total 2 columns):\n",
      " #   Column    Non-Null Count  Dtype \n",
      "---  ------    --------------  ----- \n",
      " 0   Out_Id    9 non-null      int64 \n",
      " 1   Out_Name  9 non-null      object\n",
      "dtypes: int64(1), object(1)\n",
      "memory usage: 276.0+ bytes\n"
     ]
    }
   ],
   "source": [
    "out_type.info()"
   ]
  },
  {
   "cell_type": "code",
   "execution_count": 34,
   "id": "af9e4956-47ba-4d35-8ef3-9057fcdacd2e",
   "metadata": {},
   "outputs": [
    {
     "data": {
      "text/plain": [
       "0"
      ]
     },
     "execution_count": 34,
     "metadata": {},
     "output_type": "execute_result"
    }
   ],
   "source": [
    "out_type.duplicated().sum()"
   ]
  },
  {
   "cell_type": "code",
   "execution_count": 35,
   "id": "a2fee1c9-5167-4cad-96e7-716fdb2e4f83",
   "metadata": {},
   "outputs": [
    {
     "data": {
      "text/plain": [
       "Out_Id      0\n",
       "Out_Name    0\n",
       "dtype: int64"
      ]
     },
     "execution_count": 35,
     "metadata": {},
     "output_type": "execute_result"
    }
   ],
   "source": [
    "missing_values = out_type.isnull().sum()\n",
    "missing_values"
   ]
  },
  {
   "cell_type": "code",
   "execution_count": 38,
   "id": "ce2fe7e4-701b-4f01-ae95-e63b7ebbbe59",
   "metadata": {},
   "outputs": [],
   "source": [
    "country.to_csv(\"ipl_country.csv\", index = False)"
   ]
  },
  {
   "cell_type": "code",
   "execution_count": 42,
   "id": "3a8f5a86-bacd-4a5b-9b9b-7fc8b2d4edff",
   "metadata": {},
   "outputs": [],
   "source": [
    "extra_runs.to_csv(\"ipl_extra_runs.csv\", index = False)"
   ]
  },
  {
   "cell_type": "code",
   "execution_count": 41,
   "id": "6dc62da0-d04d-464c-b832-dce59d7d64e6",
   "metadata": {},
   "outputs": [],
   "source": [
    "extra_type.to_csv(\"ipl_extra_type.csv\", index = False)"
   ]
  },
  {
   "cell_type": "code",
   "execution_count": 43,
   "id": "90be622c-7da4-4a19-9f97-cb83d39ba7ff",
   "metadata": {},
   "outputs": [],
   "source": [
    "ipl_match.to_csv(\"ipl_match.csv\", index = False)"
   ]
  },
  {
   "cell_type": "code",
   "execution_count": 44,
   "id": "93c14dc0-b1ba-488e-b304-38077cadfce0",
   "metadata": {},
   "outputs": [],
   "source": [
    "out_type.to_csv(\"ipl_out_type.csv\", index = False)"
   ]
  },
  {
   "cell_type": "code",
   "execution_count": null,
   "id": "0c1dd643-2904-4ceb-98d6-a81491a5dc5a",
   "metadata": {},
   "outputs": [],
   "source": []
  }
 ],
 "metadata": {
  "kernelspec": {
   "display_name": "Python 3 (ipykernel)",
   "language": "python",
   "name": "python3"
  },
  "language_info": {
   "codemirror_mode": {
    "name": "ipython",
    "version": 3
   },
   "file_extension": ".py",
   "mimetype": "text/x-python",
   "name": "python",
   "nbconvert_exporter": "python",
   "pygments_lexer": "ipython3",
   "version": "3.11.7"
  }
 },
 "nbformat": 4,
 "nbformat_minor": 5
}
